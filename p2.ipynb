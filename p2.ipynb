{
 "cells": [
  {
   "cell_type": "markdown",
   "metadata": {},
   "source": [
    "# Understanding `george`\n",
    "\n",
    "For a comprehensive review of Gaussian Processes, see [this page](https://github.com/bmorris3/gp_interact) by Dr. Brett Morris.\n",
    "\n",
    "In this notebook, I will try to fit KELT-11b transit observed by CHEOPS -- using GPs to decorrelate against various parameters, time and roll-angle. And in doing so, I will play with the functionalities of `george`.\n",
    "\n",
    "We use `dynesty` here for fitting!"
   ]
  },
  {
   "cell_type": "code",
   "execution_count": null,
   "metadata": {},
   "outputs": [],
   "source": [
    "import numpy as np\n",
    "import matplotlib.pyplot as plt\n",
    "import george\n",
    "from scipy.optimize import minimize as mz\n",
    "import emcee\n",
    "import corner\n",
    "import batman\n",
    "from george.modeling import Model\n",
    "import dynesty\n",
    "import scipy"
   ]
  },
  {
   "cell_type": "markdown",
   "metadata": {},
   "source": [
    "Let's first see, how our data looks like,"
   ]
  },
  {
   "cell_type": "code",
   "execution_count": null,
   "metadata": {},
   "outputs": [],
   "source": [
    "tim, fl, fle, roll = np.loadtxt('kelt-11.dat', usecols=(0,1,2,3), unpack=True)\n",
    "\n",
    "fig, (ax0, ax1) = plt.subplots(nrows=2, ncols=1,\n",
    "                                    figsize=(16, 9), constrained_layout = True)\n",
    "\n",
    "ax0.set_title('Light curve', fontsize=16)\n",
    "ax0.errorbar(tim, fl, yerr=fle, fmt='.', c='cornflowerblue')\n",
    "ax0.set_xlim([np.min(tim), np.max(tim)])\n",
    "ax0.set_xlabel('Time (in arbitrary units)')\n",
    "ax0.set_ylabel('Normalised flux')\n",
    "ax0.grid()\n",
    "#ax0.legend()\n",
    "\n",
    "ax1.set_title('Trend with Roll angle', fontsize=16)\n",
    "ax1.errorbar(roll, fl, yerr=fle, fmt='.', c='orangered')\n",
    "ax1.set_xlim([np.min(roll), np.max(roll)])\n",
    "ax1.set_xlabel('Roll Angle')\n",
    "ax1.set_ylabel('Flux')\n",
    "ax1.grid()\n",
    "#plt.legend()\n",
    "\n",
    "#fig.suptitle('Theoretical and empirical distributions of the estimate of parameters', fontsize=16)"
   ]
  },
  {
   "cell_type": "markdown",
   "metadata": {},
   "source": [
    "Okay, so one can now clearly see a trend with roll angle in flux -- we want to model this lines using Gaussian processes. In addition to this, there is a trend with time, that is why we will use a multidimensional kernel to detrend this data and also fit a transit model simultaneously. We will use transit model from `batman` in this case."
   ]
  },
  {
   "cell_type": "code",
   "execution_count": null,
   "metadata": {},
   "outputs": [],
   "source": [
    "# Transit model from george.modeling import Model\n",
    "\n",
    "def transit_model_batman(rp, a, inc, q1, q2, t):\n",
    "    params = batman.TransitParams()\n",
    "    params.t0 = 0.50187268                       #time of inferior conjunction\n",
    "    params.per = 4.73620495                      #orbital period\n",
    "    params.rp = rp                               #planet radius (in units of stellar radii)\n",
    "    params.a = a                                 #semi-major axis (in units of stellar radii)\n",
    "    params.inc = inc                             #orbital inclination (in degrees)\n",
    "    params.ecc = 0.                              #eccentricity\n",
    "    params.w = 90.                               #longitude of periastron (in degrees)\n",
    "    params.u = [q1, q2]                          #limb darkening coefficients [u1, u2]\n",
    "    params.limb_dark = \"quadratic\"\n",
    "    m = batman.TransitModel(params, t)           #initializes model\n",
    "    flux = m.light_curve(params)                 #calculates light curve\n",
    "    return flux\n",
    "\n",
    "class transit(Model):\n",
    "    parameter_names = (\"rp\", \"a\", \"inc\", \"q1\", \"q2\")   # This should be 'parameter_names' only\n",
    "\n",
    "    # It's mandatory to give this function name \"get_value\"\n",
    "    def get_value(self, tim):\n",
    "        tim = tim.flatten()\n",
    "        flx = transit_model_batman(self.rp, self.a, self.inc, self.q1, self.q2, tim)\n",
    "        return flx\n",
    "\n",
    "model = transit(rp=0.01, a=5., inc=80., q1=0.5, q2=0.5)\n",
    "\n",
    "gp = george.GP(np.var(fl) * george.kernels.Matern32Kernel(1.5), mean=model)\n",
    "gp.compute(tim, fle)"
   ]
  },
  {
   "cell_type": "code",
   "execution_count": null,
   "metadata": {},
   "outputs": [],
   "source": [
    "print(gp.get_parameter_names())      # To print parameter names\n",
    "print(gp.get_parameter_vector())     # To print their present values"
   ]
  },
  {
   "cell_type": "code",
   "execution_count": null,
   "metadata": {},
   "outputs": [],
   "source": [
    "np.var(fl)"
   ]
  },
  {
   "cell_type": "code",
   "execution_count": null,
   "metadata": {},
   "outputs": [],
   "source": [
    "def log_like(p):\n",
    "    gp.set_parameter_vector(p)\n",
    "    return gp.log_likelihood(fl, quiet=True)\n",
    "\n",
    "def prior_transform(u):\n",
    "    \"\"\"Transforms the uniform random variables `u ~ Unif[0., 1.)`\n",
    "    to the parameters of interest.\"\"\"\n",
    "    x = np.array(u)  # copy u\n",
    "    # Rp\n",
    "    x[0] = u[0]/10.\n",
    "    # a/R\n",
    "    x[1] = 9.*u[1] + 1.\n",
    "    # inc\n",
    "    x[2] = scipy.stats.norm.ppf(u[2], loc=85., scale=10.)\n",
    "    # q1\n",
    "    x[3] = 2.*u[3] - 1.\n",
    "    # q2\n",
    "    x[4] = 2.*u[4] - 1.\n",
    "    # First kernel parameter\n",
    "    x[5] = scipy.stats.loguniform.ppf(u[5], a=1.e-7, b=1.e-4)\n",
    "    # Second kernel parameter\n",
    "    x[6] = scipy.stats.loguniform.ppf(u[6], a=1.e-3, b=10.)\n",
    "    return x"
   ]
  },
  {
   "cell_type": "code",
   "execution_count": null,
   "metadata": {},
   "outputs": [],
   "source": [
    "sampler = dynesty.NestedSampler(loglikelihood=log_like, prior_transform=prior_transform, ndim=7, nlive=500, bound='multi', sample='rwalk')\n",
    "sampler.run_nested()\n",
    "results = sampler.results"
   ]
  },
  {
   "cell_type": "code",
   "execution_count": null,
   "metadata": {},
   "outputs": [],
   "source": []
  }
 ],
 "metadata": {
  "interpreter": {
   "hash": "98656aa1b2634079f577e60edca7f30b1f5a1cc6a5ea06e52fddb5d397aa98e9"
  },
  "kernelspec": {
   "display_name": "Python 3.8.12 64-bit ('base': conda)",
   "language": "python",
   "name": "python3"
  },
  "language_info": {
   "codemirror_mode": {
    "name": "ipython",
    "version": 3
   },
   "file_extension": ".py",
   "mimetype": "text/x-python",
   "name": "python",
   "nbconvert_exporter": "python",
   "pygments_lexer": "ipython3",
   "version": "3.8.12"
  },
  "orig_nbformat": 4
 },
 "nbformat": 4,
 "nbformat_minor": 2
}
